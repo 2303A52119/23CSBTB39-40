{
  "nbformat": 4,
  "nbformat_minor": 0,
  "metadata": {
    "colab": {
      "provenance": [],
      "authorship_tag": "ABX9TyPH/oyPnSG5EsMhfVI2Wtu4",
      "include_colab_link": true
    },
    "kernelspec": {
      "name": "python3",
      "display_name": "Python 3"
    },
    "language_info": {
      "name": "python"
    }
  },
  "cells": [
    {
      "cell_type": "markdown",
      "metadata": {
        "id": "view-in-github",
        "colab_type": "text"
      },
      "source": [
        "<a href=\"https://colab.research.google.com/github/2303A52119/23CSBTB39-40/blob/main/Untitled1.ipynb\" target=\"_parent\"><img src=\"https://colab.research.google.com/assets/colab-badge.svg\" alt=\"Open In Colab\"/></a>"
      ]
    },
    {
      "cell_type": "code",
      "execution_count": 4,
      "metadata": {
        "colab": {
          "base_uri": "https://localhost:8080/"
        },
        "id": "dGPpMALA7bte",
        "outputId": "e00d8880-bfd5-4745-9b0c-133010d7b11c"
      },
      "outputs": [
        {
          "output_type": "stream",
          "name": "stdout",
          "text": [
            "[1, 2, 3, 4, 5]\n"
          ]
        }
      ],
      "source": [
        "import numpy as np\n",
        "list = [1,2,3,4,5]\n",
        "print(list)\n"
      ]
    },
    {
      "cell_type": "code",
      "source": [
        "str_list = \"Welcome to Guru99\"\n",
        "age = 50\n",
        "pi = 3.14\n",
        "c_num = 3j+10\n",
        "my_list = [\"A\",\"B\",\"C\",\"D\"]\n",
        "my_tuple = (\"A\",\"B\",\"C\",\"D\")\n",
        "my_set = {\"A\",\"B\",\"C\",\"D\"}\n",
        "my_dict = {\"A\":1,\"B\":2,\"C\":3,\"D\":4}"
      ],
      "metadata": {
        "id": "AKYiFh_DC2nX"
      },
      "execution_count": 6,
      "outputs": []
    }
  ]
}