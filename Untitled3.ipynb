{
  "nbformat": 4,
  "nbformat_minor": 0,
  "metadata": {
    "colab": {
      "provenance": [],
      "authorship_tag": "ABX9TyOuGXUvt3pvTbgvt47gx5QS",
      "include_colab_link": true
    },
    "kernelspec": {
      "name": "python3",
      "display_name": "Python 3"
    },
    "language_info": {
      "name": "python"
    }
  },
  "cells": [
    {
      "cell_type": "markdown",
      "metadata": {
        "id": "view-in-github",
        "colab_type": "text"
      },
      "source": [
        "<a href=\"https://colab.research.google.com/github/2303A52119/23CSBTB39-40/blob/main/Untitled3.ipynb\" target=\"_parent\"><img src=\"https://colab.research.google.com/assets/colab-badge.svg\" alt=\"Open In Colab\"/></a>"
      ]
    },
    {
      "cell_type": "code",
      "source": [
        "from queue import Queue\n",
        "\n",
        "graph = {0: [1, 2, 3],\n",
        "         1: [0, 2],\n",
        "         2: [1, 3, 5],\n",
        "         3: [0, 2, 4],\n",
        "         4: [3, 5, 7],\n",
        "         5: [2, 4, 6, 7],\n",
        "         6: [5, 7],\n",
        "         7:[]}\n",
        "print(\"The adjacency List representing the graph is:\")\n",
        "print(graph)\n",
        "\n",
        "\n",
        "def bfs(graph, source):\n",
        "    Q = Queue()\n",
        "    visited_vertices = set()\n",
        "    Q.put(source)\n",
        "    visited_vertices.update({source})\n",
        "    while not Q.empty():\n",
        "        vertex = Q.get()\n",
        "        print(vertex, end=\"-->\")\n",
        "        for u in graph[vertex]:\n",
        "            if u not in visited_vertices:\n",
        "                Q.put(u)\n",
        "                visited_vertices.update({u})\n",
        "\n",
        "print(\"BFS traversal of graph with source 1 is:\")\n",
        "bfs(graph, 1)"
      ],
      "metadata": {
        "colab": {
          "base_uri": "https://localhost:8080/"
        },
        "id": "HlrCt9vlUuhe",
        "outputId": "a055ed79-a12e-431d-8e35-86ece16c6c1f"
      },
      "execution_count": 9,
      "outputs": [
        {
          "output_type": "stream",
          "name": "stdout",
          "text": [
            "The adjacency List representing the graph is:\n",
            "{0: [1, 2, 3], 1: [0, 2], 2: [1, 3, 5], 3: [0, 2, 4], 4: [3, 5, 7], 5: [2, 4, 6, 7], 6: [5, 7], 7: []}\n",
            "BFS traversal of graph with source 1 is:\n",
            "1-->0-->2-->3-->5-->4-->6-->7-->"
          ]
        }
      ]
    },
    {
      "cell_type": "code",
      "source": [
        "graph1 = {\n",
        "    'A' : ['B','C','G'],\n",
        "    'B' : ['A'],\n",
        "    'C' : ['A','D','F',],\n",
        "    'D' : ['A','C','E','H'],\n",
        "    'E' : ['D','H','F'],\n",
        "    'F' : ['C','E'],\n",
        "    'G' : ['A','D','H'],\n",
        "    'H' : ['D','E','G']\n",
        "}\n",
        "\n",
        "def dfs(graph, node, visited):\n",
        "    if node not in visited:\n",
        "        visited.append(node)\n",
        "        for k in graph[node]:\n",
        "            dfs(graph,k, visited)\n",
        "    return visited\n",
        "\n",
        "visited = dfs(graph1,'B', [])\n",
        "print(visited)"
      ],
      "metadata": {
        "colab": {
          "base_uri": "https://localhost:8080/"
        },
        "id": "HDokANLHUzAW",
        "outputId": "ababe463-abc2-4fdb-c82a-69dc99f717a0"
      },
      "execution_count": 10,
      "outputs": [
        {
          "output_type": "stream",
          "name": "stdout",
          "text": [
            "['B', 'A', 'C', 'D', 'E', 'H', 'G', 'F']\n"
          ]
        }
      ]
    }
  ]
}